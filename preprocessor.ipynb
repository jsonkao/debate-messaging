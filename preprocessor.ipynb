{
 "cells": [
  {
   "cell_type": "code",
   "execution_count": 39,
   "metadata": {},
   "outputs": [],
   "source": [
    "from collections import defaultdict\n",
    "import re\n",
    "import json"
   ]
  },
  {
   "cell_type": "code",
   "execution_count": 37,
   "metadata": {},
   "outputs": [],
   "source": [
    "noise_pattern = re.compile('^\\([^\\)]*\\)$')\n",
    "name_pattern = re.compile('^([A-Z]*):')"
   ]
  },
  {
   "cell_type": "code",
   "execution_count": 38,
   "metadata": {},
   "outputs": [],
   "source": [
    "with open('R-march_2016.txt') as f:\n",
    "    transcript = f.read()\n",
    "lines = list(filter(None, transcript.split('\\n')))\n",
    "lines = [x for x in lines if noise_pattern.match(x) is None]"
   ]
  },
  {
   "cell_type": "code",
   "execution_count": 32,
   "metadata": {
    "scrolled": false
   },
   "outputs": [],
   "source": [
    "speaker = None\n",
    "speeches = defaultdict(str)\n",
    "\n",
    "for line in lines:\n",
    "    name = name_pattern.match(line)\n",
    "    if name is not None:\n",
    "        speaker = name.group(1)\n",
    "        line = name_pattern.sub('', line)\n",
    "    speeches[speaker] += line.strip() + ' '"
   ]
  },
  {
   "cell_type": "code",
   "execution_count": 41,
   "metadata": {
    "scrolled": false
   },
   "outputs": [],
   "source": [
    "with open('speeches.json', 'w') as f:\n",
    "    f.write(json.dumps(speeches['TRUMP']))"
   ]
  }
 ],
 "metadata": {
  "kernelspec": {
   "display_name": "Python 3",
   "language": "python",
   "name": "python3"
  },
  "language_info": {
   "codemirror_mode": {
    "name": "ipython",
    "version": 3
   },
   "file_extension": ".py",
   "mimetype": "text/x-python",
   "name": "python",
   "nbconvert_exporter": "python",
   "pygments_lexer": "ipython3",
   "version": "3.7.3"
  }
 },
 "nbformat": 4,
 "nbformat_minor": 2
}

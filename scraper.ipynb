{
 "cells": [
  {
   "cell_type": "code",
   "execution_count": 77,
   "metadata": {},
   "outputs": [],
   "source": [
    "from bs4 import Tag, NavigableString, BeautifulSoup\n",
    "from collections import defaultdict\n",
    "import requests\n",
    "import textstat\n",
    "import json"
   ]
  },
  {
   "cell_type": "code",
   "execution_count": 73,
   "metadata": {},
   "outputs": [],
   "source": [
    "r = requests.get('https://plus.cq.com/doc/newsmakertranscripts-4841564?0&searchId=jpZHfdFL')\n",
    "soup = BeautifulSoup(r.content)\n",
    "\n",
    "div = list(soup.find('div', { 'class': 'story' }))"
   ]
  },
  {
   "cell_type": "code",
   "execution_count": 75,
   "metadata": {
    "scrolled": false
   },
   "outputs": [],
   "source": [
    "speaker = None\n",
    "\n",
    "speeches = defaultdict(str)\n",
    "\n",
    "for el in list(div):\n",
    "    if isinstance(el, NavigableString):\n",
    "        if 'UNIDENTIFIED' not in el:\n",
    "            speaker = el.strip().strip(':')\n",
    "    elif el.name == 'p':\n",
    "        if el.string.find('(') == 0 and el.string.find(')') == len(el.string) - 1:\n",
    "            continue\n",
    "        speeches[speaker] += el.text.strip() + ' '"
   ]
  },
  {
   "cell_type": "code",
   "execution_count": 78,
   "metadata": {},
   "outputs": [],
   "source": [
    "speeches_list = [\n",
    "    {\n",
    "        'speaker': p,\n",
    "        'readability': textstat.dale_chall_readability_score(speeches[p])\n",
    "    } for p in speeches.keys()\n",
    "]"
   ]
  },
  {
   "cell_type": "code",
   "execution_count": 82,
   "metadata": {},
   "outputs": [],
   "source": [
    "with open('speeches.json', 'w') as f:\n",
    "    f.write(json.dumps(speeches_list))"
   ]
  }
 ],
 "metadata": {
  "kernelspec": {
   "display_name": "Python 3",
   "language": "python",
   "name": "python3"
  },
  "language_info": {
   "codemirror_mode": {
    "name": "ipython",
    "version": 3
   },
   "file_extension": ".py",
   "mimetype": "text/x-python",
   "name": "python",
   "nbconvert_exporter": "python",
   "pygments_lexer": "ipython3",
   "version": "3.7.3"
  }
 },
 "nbformat": 4,
 "nbformat_minor": 2
}
